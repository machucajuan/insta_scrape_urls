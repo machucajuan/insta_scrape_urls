{
 "cells": [
  {
   "cell_type": "code",
   "execution_count": 2,
   "metadata": {},
   "outputs": [
    {
     "name": "stdout",
     "output_type": "stream",
     "text": [
      "['https://www.instagram.com/p/CIJVqg6n_jR/', 'https://www.instagram.com/p/CHvdaE7HT34/', 'https://www.instagram.com/p/CHtKRAmHvjq/', 'https://www.instagram.com/p/CHqicGyHnCE/', 'https://www.instagram.com/p/CHihAPGny--/', 'https://www.instagram.com/p/CHVy110nOZ8/', 'https://www.instagram.com/p/CHT3sstH95u/', 'https://www.instagram.com/p/CHBLviuH7SK/', 'https://www.instagram.com/p/CG8bTEAnZuo/', 'https://www.instagram.com/p/CGsnmfwHVcO/', 'https://www.instagram.com/p/CGh2XS-nV15/', 'https://www.instagram.com/p/CGBADPknCz8/', 'https://www.instagram.com/p/CFzwX38HSY6/', 'https://www.instagram.com/p/CFw_ktmjSuv/', 'https://www.instagram.com/p/CFvPilcH7a3/', 'https://www.instagram.com/p/CFk2ItmnB68/', 'https://www.instagram.com/p/CFinFQ6HMjV/', 'https://www.instagram.com/p/CFaPtaqjHGl/', 'https://www.instagram.com/p/CDmMWhUHuZ6/', 'https://www.instagram.com/p/CDhpQzoHzb3/', 'https://www.instagram.com/p/CDe8NjTHigJ/', 'https://www.instagram.com/p/CCEy2rSjGHX/', 'https://www.instagram.com/p/CB_Y016DHZp/', 'https://www.instagram.com/p/CB6viEmDwwe/', 'https://www.instagram.com/p/CB5qJN1jOGV/']\n"
     ]
    }
   ],
   "source": [
    "# -*- coding: utf-8 -*-\n",
    "\"\"\"\n",
    "Created on Tue Dec  1 11:50:06 2020\n",
    "\n",
    "@author: Juan Machuca\n",
    "\"\"\"\n",
    "\n",
    "import pandas as pd #Import Pandas Database Library\n",
    "import time #Importing Selenium \n",
    "from selenium.webdriver import Chrome #Remember to install chromewebdriver for web testing from Chrome \n",
    "from selenium import webdriver\n",
    "from selenium.common.exceptions import NoSuchElementException\n",
    "from bs4 import BeautifulSoup as bs\n",
    "import json\n",
    "from pandas.io.json import json_normalize\n",
    "\n",
    "browser = Chrome('C:/Users/Juan/Documents/chromedriver.exe') #Search PATH where chromedriver is installed, check browser version\n",
    "\"\"\" DO NOT RUN: INSTABOT FOR LOGIN WITH USERNAME AND PASSWORD\n",
    "url = \"https://www.instagram.com/\"\n",
    "browser.get(url)\n",
    "\n",
    "instagram = \"https://www.instagram.com/accounts/login/\"\n",
    "browser.get(instagram)\n",
    "browser.implicitly_wait(5)\n",
    "\n",
    "browser.find_element_by_xpath('/html/body/div[1]/section/main/div/div/div[1]/div/form/div/div[1]/div/label/input').send_keys(\"username\") \n",
    "\n",
    "browser.find_element_by_xpath('/html/body/div[1]/section/main/div/div/div[1]/div/form/div/div[2]/div/label/input').send_keys(\"password\")\n",
    "\n",
    "browser.find_element_by_css_selector('button[type=submit]').click()\n",
    "\"\"\"\n",
    "\n",
    "#Getting the most recent 25 Instagram posts links from a public account using Selenium automated webdriver\n",
    "def recent_25_posts(username):\n",
    "    \"\"\"With the input of an account page, scrape the 25 most recent posts urls\"\"\"\n",
    "    url = \"https://www.instagram.com/\" + username + \"/\"\n",
    "    browser.get(url)\n",
    "    post = 'https://www.instagram.com/p/'\n",
    "    post_links = []\n",
    "    while len(post_links) < 25:\n",
    "        links = [a.get_attribute('href') for a in browser.find_elements_by_tag_name('a')]\n",
    "        for link in links:\n",
    "            if post in link and link not in post_links:\n",
    "                if len(post_links) < 25:\n",
    "\n",
    "                    post_links.append(link)\n",
    "        scroll_down = \"window.scrollTo(0, document.body.scrollHeight);\"\n",
    "        browser.execute_script(scroll_down)\n",
    "        time.sleep(10)\n",
    "    else:\n",
    "        return post_links\n",
    "account_url = recent_25_posts('samsungus')\n",
    "print(account_url)\n"
   ]
  },
  {
   "cell_type": "code",
   "execution_count": null,
   "metadata": {},
   "outputs": [],
   "source": []
  }
 ],
 "metadata": {
  "kernelspec": {
   "display_name": "Python 3",
   "language": "python",
   "name": "python3"
  },
  "language_info": {
   "codemirror_mode": {
    "name": "ipython",
    "version": 3
   },
   "file_extension": ".py",
   "mimetype": "text/x-python",
   "name": "python",
   "nbconvert_exporter": "python",
   "pygments_lexer": "ipython3",
   "version": "3.7.6"
  }
 },
 "nbformat": 4,
 "nbformat_minor": 4
}
